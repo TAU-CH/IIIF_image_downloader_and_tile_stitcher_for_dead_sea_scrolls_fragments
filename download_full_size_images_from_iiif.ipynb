{
 "cells": [
  {
   "cell_type": "markdown",
   "id": "892e569d-96b3-410b-ad17-8d84d7772b73",
   "metadata": {},
   "source": [
    "<h2>Download IIIF image as tiles and stich the tiles</h2>"
   ]
  },
  {
   "cell_type": "markdown",
   "id": "c5565202-dc47-41bd-9245-38361ca9fc8e",
   "metadata": {},
   "source": [
    "This notebook shows how to download full images from an IIIF server. Given an image identifier, this code opens its info.json, reads image height, width and tile height, width, download the individual tiles and stich them into a full image. That is because an IIIF server does allow downloading images greater than 1000 x 1000 pixels. "
   ]
  },
  {
   "cell_type": "markdown",
   "id": "31be7308-3318-4597-8564-f184ecbe254e",
   "metadata": {},
   "source": [
    "IIIF image server defines an <b>Image API</b> (https://iiif.io/api/image/3.0/#53-sizes) and a <b>Presentation API</b> (https://iiif.io/api/presentation/3.0/). \n",
    "\n",
    "The <b>Image API</b> provides information for returning an image in response to a standard HTTP request. The URL can specify the region, size, rotation, quality characteristics and format of the requested image. It defines the info.json file structure that includes technical properties of the image such as the image size, tile size, image format, and color quality.\n",
    "\n",
    "The <b>Presentation API</b> provide information for online viewing the images. It defines the manifest.json file structure that includes descriptive, rights and linking information for the object and contains information for the client to  begin to display something quickly to the user."
   ]
  },
  {
   "cell_type": "markdown",
   "id": "66ca1bdd-77e5-4463-8fac-931776f626a0",
   "metadata": {},
   "source": [
    "<h3>Follow Dead Sea Scrolls (DSS) fragment images to its source</h3>\n",
    "\n",
    "IAA photographs the DSS fragment images and host them via an IIIF server (https://iaa.iiifhosting.com). The public image archive can be viewed here (https://www.deadseascrolls.org.il/explore-the-archive). Fragment manifests are here (https://dss.digitalbibleonline.org/manifests/all/). Each manuscript consist of several fragments. Each fragment is imaged from recto and verso, using different wavelengths (https://youtu.be/MY-8AQZOe_w), infrared and color formats. Given a manuscript name https://www.qumran-digital.org/qd-images/ can present its fragment images in all their available format.</b>\n",
    "\n",
    "A fragment manifest contains an identifier for each of its images. If we are asked to download the fragment images of a manuscript with the given name (4Q171) first, we its fragments' manifests from (https://dss.digitalbibleonline.org/manifests/all/) then, we gather the identifier of the interested image format (i.e. recto and infrared) from the fragment manifest and finally, we download the fragment image from (https://iaa.iiifhosting.com) using the identifier of the interested fragment image. </b>\n",
    "\n",
    "In this project we are given a list of manuscript names (https://tauex-my.sharepoint.com/:x:/g/personal/berat_tauex_tau_ac_il/EUWgmjVoV0BKjE2mL3Wp5sgBdkUXjnkmsct34MmqRZ_EjA?e=j5bZWf). These manuscripts are dated by an internal evidence and can be used a ground truth for manuscript dating problem. We fetched the interested fragment image identifiers (https://github.com/beratkurar/hebrew_letter_detection/blob/main/fragment_identifiers.csv) from the manifests (https://dss.digitalbibleonline.org/manifests/all/). "
   ]
  },
  {
   "cell_type": "code",
   "execution_count": null,
   "id": "d8539658-6e9f-47dc-bacb-0fccc6c31cce",
   "metadata": {},
   "outputs": [],
   "source": [
    "import cv2\n",
    "import os\n",
    "from pandas import *\n",
    "import requests\n",
    "import numpy as np"
   ]
  },
  {
   "cell_type": "code",
   "execution_count": null,
   "id": "a3d762ab-da9b-4f25-bd11-7206568ee4b2",
   "metadata": {},
   "outputs": [],
   "source": [
    "def read_image_data(file_name):\n",
    "    # Read image identifiers from a csv file\n",
    "    df = read_csv(file_name)\n",
    "    image_identifier_list = df.loc[df['label'] == 'Near Infra-Red (NIR) -Recto', 'image_identifier'].tolist()\n",
    "    #image_identifier_list = df.loc[df['side'] == 'recto', 'image_identifier'].tolist()\n",
    "    input_files = [x.strip() for x in image_identifier_list if x != \"\"]  \n",
    "    return input_files"
   ]
  },
  {
   "cell_type": "code",
   "execution_count": null,
   "id": "e54c0798-a267-4bba-974b-7d2f6e82db7f",
   "metadata": {},
   "outputs": [
    {
     "name": "stdout",
     "output_type": "stream",
     "text": [
      "7eac0d1613687328eb4a8be51fff265eb9108deae862fa3f7ae2858db3c47046\n"
     ]
    }
   ],
   "source": [
    "# Print an example identifier\n",
    "identifiers = read_image_data ('fragment_identifiers.csv')\n",
    "print(identifiers[1])"
   ]
  },
  {
   "cell_type": "markdown",
   "id": "9bf8bf24-125a-4ef5-ba79-d98be6d972bb",
   "metadata": {},
   "source": [
    "The Image API can be called by requesting an image using the following URL template:\n",
    "{scheme}://{server}{/prefix}/{identifier}/{region}/{size}/{rotation}/{quality}.{format}\n",
    "\n",
    "Scheme = http <br/>\n",
    "Server = iaa.iiifhosting.com/iiif/ <br/>\n",
    "Prefix = 7eac0d1613687328eb4a8be51fff265eb9108deae862fa3f7ae2858db3c47046 <br/>\n",
    "Region = Rectangular portion of the underlying image content to be returned. Region can be specified by pixel coordinates, percentage or by the value full, which specifies that the full image should be returned. <br/>\n",
    "Size = The size parameter specifies the dimensions to which the extracted region is to be scaled. <br/>\n",
    "Rotation = specifies mirroring and rotation. <br/>\n",
    "Quality = determines whether the image is delivered in color, grayscale or black and white. <br/>\n",
    "Format = format of the returned image is expressed as a suffix at the end of the URI i.e. default.jpg, default.png. default.tif. <br/>"
   ]
  },
  {
   "cell_type": "code",
   "execution_count": null,
   "id": "aa95db34-5b46-4f28-ac33-c71f96579b52",
   "metadata": {},
   "outputs": [
    {
     "name": "stdout",
     "output_type": "stream",
     "text": [
      "{'@context': 'http://iiif.io/api/image/2/context.json', '@id': 'https://iaa.iiifhosting.com/iiif/7eac0d1613687328eb4a8be51fff265eb9108deae862fa3f7ae2858db3c47046', 'protocol': 'http://iiif.io/api/image', 'width': 7216, 'height': 5412, 'sizes': [{'width': 225, 'height': 169}, {'width': 451, 'height': 338}, {'width': 902, 'height': 676}], 'tiles': [{'width': 256, 'height': 256, 'scaleFactors': [1, 2, 4, 8, 16, 32]}], 'profile': ['http://iiif.io/api/image/2/level1.json', {'formats': ['jpg'], 'qualities': ['native', 'color', 'gray'], 'supports': ['regionByPct', 'regionSquare', 'sizeByForcedWh', 'sizeByWh', 'sizeAboveFull', 'rotationBy90s', 'mirroring']}]}\n"
     ]
    }
   ],
   "source": [
    "#Open and print an example info.json\n",
    "prefix ='https://iaa.iiifhosting.com/iiif/7eac0d1613687328eb4a8be51fff265eb9108deae862fa3f7ae2858db3c47046/'\n",
    "info_url = prefix + 'info.json'\n",
    "info = requests.get(info_url).json()\n",
    "print(info)"
   ]
  },
  {
   "cell_type": "markdown",
   "id": "5970c0bd-0ce9-44cb-96a0-ed097c3bd3aa",
   "metadata": {},
   "source": [
    "The IIIF server does not allow to download images greater than 1000 x 1000 pixels. To see this let's gather the full region size image with full sizes, and see that its shape is only 1000 x 1000 x 3 but not height x width x 3."
   ]
  },
  {
   "cell_type": "code",
   "execution_count": null,
   "id": "6db45b94-15b9-41eb-8267-a07bcac14776",
   "metadata": {},
   "outputs": [
    {
     "name": "stdout",
     "output_type": "stream",
     "text": [
      "https://iaa.iiifhosting.com/iiif/7eac0d1613687328eb4a8be51fff265eb9108deae862fa3f7ae2858db3c47046/full/7216,5412/0/default.jpg\n"
     ]
    }
   ],
   "source": [
    "# get image sizes from info.json and construct the image_url\n",
    "height = str(info['height'])\n",
    "width = str(info['width'])\n",
    "image_url = prefix + 'full/' + width + ',' + height + '/0/default.jpg'\n",
    "print(image_url)"
   ]
  },
  {
   "cell_type": "code",
   "execution_count": null,
   "id": "4ef3e9dc-f7ad-4c5f-b717-4468db9addf1",
   "metadata": {},
   "outputs": [],
   "source": [
    "# Convert http response image to a numpy array image\n",
    "response = requests.get(image_url, stream=True).raw\n",
    "image_array = np.asarray(bytearray(response.read()), dtype=\"uint8\")\n",
    "image = cv2.imdecode(image_array, cv2.IMREAD_COLOR)"
   ]
  },
  {
   "cell_type": "code",
   "execution_count": null,
   "id": "6cef7023-d2f9-41bf-b67c-e0512608a1a8",
   "metadata": {},
   "outputs": [
    {
     "name": "stdout",
     "output_type": "stream",
     "text": [
      "(1000, 1000, 3)\n"
     ]
    }
   ],
   "source": [
    "print(image.shape)"
   ]
  },
  {
   "cell_type": "markdown",
   "id": "0c53c2d2-b20b-467e-b646-c5d7800d23e1",
   "metadata": {},
   "source": [
    "Therefore we download the full image as tiles and stich the tiles to reform the full image. "
   ]
  },
  {
   "cell_type": "code",
   "execution_count": null,
   "id": "8540aafc-905d-40f9-817f-a35592a498f1",
   "metadata": {},
   "outputs": [],
   "source": [
    "\n",
    "# Get the full image size and tile size from info.json.\n",
    "stiched_image = np.empty((info['height'], info['width'], 3), dtype=np.uint8)\n",
    "tile_width = info['tiles'][0]['width']\n",
    "tile_height = info['tiles'][0]['height']\n",
    "\n",
    "# Download image tile by tile, stich the tiles into a full size image.\n",
    "y = 0\n",
    "while y < info['height']:\n",
    "    x = 0\n",
    "    adj_height = min(tile_height, info['height'] - y)\n",
    "    while x < info['width']:\n",
    "        adj_width = min(tile_width, int(info['width'] - x))\n",
    "        tile_url = prefix + str(x) + ',' + str(y) + ',' + str(adj_width) + ',' + str(adj_height) + '/full/0/default.jpg'\n",
    "        response = requests.get(tile_url, stream=True).raw\n",
    "        tile_array = np.asarray(bytearray(response.read()), dtype=\"uint8\")\n",
    "        tile_image = cv2.imdecode(tile_array, cv2.IMREAD_COLOR)\n",
    "        stiched_image[y:y+adj_height, x:x+adj_width] = tile_image\n",
    "        x = x + tile_width\n",
    "    y = y + tile_height\n"
   ]
  },
  {
   "cell_type": "code",
   "execution_count": null,
   "id": "4c071b4f-91e9-4f54-b974-06d9475628f2",
   "metadata": {},
   "outputs": [
    {
     "name": "stdout",
     "output_type": "stream",
     "text": [
      "(5412, 7216, 3)\n"
     ]
    }
   ],
   "source": [
    "print(stiched_image.shape)"
   ]
  },
  {
   "cell_type": "code",
   "execution_count": null,
   "id": "87b8dcb7-10aa-419d-8844-dab8f85592ca",
   "metadata": {},
   "outputs": [],
   "source": [
    "def download_iiif_image(identifier):\n",
    "    # Download tiles and stich them into a full size image\n",
    "    \n",
    "    #Construct prefix using the identifier\n",
    "    prefix ='https://iaa.iiifhosting.com/iiif/' + identifier + '/'    \n",
    "    #Read info.json\n",
    "    info_url = prefix + 'info.json'\n",
    "    info = requests.get(info_url).json() \n",
    "    #Read image sizes and construct an empty image\n",
    "    height = str(info['height'])\n",
    "    width = str(info['width'])\n",
    "    stiched_image = np.empty((info['height'], info['width'], 3), dtype=np.uint8)\n",
    "    #Read tile sizes\n",
    "    tile_width = info['tiles'][0]['width']\n",
    "    tile_height = info['tiles'][0]['height']\n",
    "    #Download tile by tile and stich them into a full size image\n",
    "    y = 0\n",
    "    while y < info['height']:\n",
    "        x = 0\n",
    "        adj_height = min(tile_height, info['height'] - y)\n",
    "        while x < info['width']:\n",
    "            adj_width = min(tile_width, info['width'] - x)\n",
    "            tile_url = prefix + str(x) + ',' + str(y)+ ',' + str(adj_width)+ ',' + str(adj_height) + '/full/0/default.jpg'\n",
    "            response = requests.get(tile_url, stream=True).raw\n",
    "            tile_array = np.asarray(bytearray(response.read()), dtype=\"uint8\")\n",
    "            tile_image = cv2.imdecode(tile_array, cv2.IMREAD_COLOR)\n",
    "            stiched_image[y:y+adj_height, x:x+adj_width] = tile_image\n",
    "            x = x + tile_width\n",
    "        y = y + tile_height\n",
    "    \n",
    "    return stiched_image"
   ]
  },
  {
   "cell_type": "code",
   "execution_count": null,
   "id": "36a1a2d5-5c02-4658-860b-d8ee4df249ef",
   "metadata": {},
   "outputs": [
    {
     "name": "stderr",
     "output_type": "stream",
     "text": [
      "Future exception was never retrieved\n",
      "future: <Future finished exception=JSONDecodeError('Expecting value: line 1 column 1 (char 0)')>\n",
      "Traceback (most recent call last):\n",
      "  File \"/home/nachum/berat/anaconda3/envs/tfenv/lib/python3.9/site-packages/requests/models.py\", line 971, in json\n",
      "    return complexjson.loads(self.text, **kwargs)\n",
      "  File \"/home/nachum/berat/anaconda3/envs/tfenv/lib/python3.9/json/__init__.py\", line 346, in loads\n",
      "    return _default_decoder.decode(s)\n",
      "  File \"/home/nachum/berat/anaconda3/envs/tfenv/lib/python3.9/json/decoder.py\", line 337, in decode\n",
      "    obj, end = self.raw_decode(s, idx=_w(s, 0).end())\n",
      "  File \"/home/nachum/berat/anaconda3/envs/tfenv/lib/python3.9/json/decoder.py\", line 355, in raw_decode\n",
      "    raise JSONDecodeError(\"Expecting value\", s, err.value) from None\n",
      "json.decoder.JSONDecodeError: Expecting value: line 1 column 1 (char 0)\n",
      "\n",
      "During handling of the above exception, another exception occurred:\n",
      "\n",
      "Traceback (most recent call last):\n",
      "  File \"/home/nachum/berat/anaconda3/envs/tfenv/lib/python3.9/concurrent/futures/thread.py\", line 58, in run\n",
      "    result = self.fn(*self.args, **self.kwargs)\n",
      "  File \"/tmp/ipykernel_9134/3238259404.py\", line 15, in download_and_save_images\n",
      "    full_size_image = download_iiif_image(identifier)\n",
      "  File \"/tmp/ipykernel_9134/266969641.py\", line 8, in download_iiif_image\n",
      "    info = requests.get(info_url).json()\n",
      "  File \"/home/nachum/berat/anaconda3/envs/tfenv/lib/python3.9/site-packages/requests/models.py\", line 975, in json\n",
      "    raise RequestsJSONDecodeError(e.msg, e.doc, e.pos)\n",
      "requests.exceptions.JSONDecodeError: Expecting value: line 1 column 1 (char 0)\n"
     ]
    }
   ],
   "source": [
    "import asyncio\n",
    "\n",
    "def background(f):\n",
    "    def wrapped(*args, **kwargs):\n",
    "        return asyncio.get_event_loop().run_in_executor(None, f, *args, **kwargs)\n",
    "    return wrapped\n",
    "\n",
    "image_identifiers_file = 'fragment_identifiers.csv'\n",
    "image_download_folder = 'images/'\n",
    "identifiers = read_image_data(image_identifiers_file)\n",
    "\n",
    "#Run loop iterations in parallel\n",
    "@background\n",
    "def download_and_save_images(identifier):   \n",
    "    full_size_image = download_iiif_image(identifier)\n",
    "    cv2.imwrite(image_download_folder + identifier + '.jpg', full_size_image)\n",
    "\n",
    "#Run loop iterations in parallel\n",
    "for identifier in identifiers:\n",
    "    download_and_save_images(identifier)"
   ]
  }
 ],
 "metadata": {
  "kernelspec": {
   "display_name": "Python 3 (ipykernel)",
   "language": "python",
   "name": "python3"
  },
  "language_info": {
   "codemirror_mode": {
    "name": "ipython",
    "version": 3
   },
   "file_extension": ".py",
   "mimetype": "text/x-python",
   "name": "python",
   "nbconvert_exporter": "python",
   "pygments_lexer": "ipython3",
   "version": "3.9.15"
  }
 },
 "nbformat": 4,
 "nbformat_minor": 5
}

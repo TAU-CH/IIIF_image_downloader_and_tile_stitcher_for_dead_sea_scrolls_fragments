{
 "cells": [
  {
   "cell_type": "markdown",
   "id": "892e569d-96b3-410b-ad17-8d84d7772b73",
   "metadata": {},
   "source": [
    "<h2>Download IIIF image as tiles and stich the tiles</h2>"
   ]
  },
  {
   "cell_type": "markdown",
   "id": "c5565202-dc47-41bd-9245-38361ca9fc8e",
   "metadata": {},
   "source": [
    "This notebook shows how to download full images from an IIIF server. Given an image identifier, this code opens its info.json, reads image height, width and tile height, width, download the individual tiles and stich them into a full image. That is because an IIIF server does allow downloading images greater than 1000 x 1000 pixels. "
   ]
  },
  {
   "cell_type": "markdown",
   "id": "31be7308-3318-4597-8564-f184ecbe254e",
   "metadata": {},
   "source": [
    "IIIF image server defines an <b>Image API</b> (https://iiif.io/api/image/3.0/#53-sizes) and a <b>Presentation API</b> (https://iiif.io/api/presentation/3.0/). \n",
    "\n",
    "The <b>Image API</b> provides information for returning an image in response to a standard HTTP request. The URL can specify the region, size, rotation, quality characteristics and format of the requested image. It defines the info.json file structure that includes technical properties of the image such as the image size, tile size, image format, and color quality.\n",
    "\n",
    "The <b>Presentation API</b> provide information for online viewing the images. It defines the manifest.json file structure that includes descriptive, rights and linking information for the object and contains information for the client to  begin to display something quickly to the user."
   ]
  },
  {
   "cell_type": "markdown",
   "id": "66ca1bdd-77e5-4463-8fac-931776f626a0",
   "metadata": {},
   "source": [
    "<h3>Follow Dead Sea Scrolls (DSS) fragment images to its source</h3>\n",
    "\n",
    "IAA photographs the DSS fragment images and host them via an IIIF server (https://iaa.iiifhosting.com). The public image archive can be viewed here (https://www.deadseascrolls.org.il/explore-the-archive). Fragment manifests are here (https://dss.digitalbibleonline.org/manifests/all/). Each manuscript consist of several fragments. Each fragment is imaged from recto and verso, using different wavelengths (https://youtu.be/MY-8AQZOe_w), infrared and color formats. Given a manuscript name https://www.qumran-digital.org/qd-images/ can present its fragment images in all their available format.</b>\n",
    "\n",
    "A fragment manifest contains an identifier for each of its images. If we are asked to download the fragment images of a manuscript with the given name (4Q171) first, we its fragments' manifests from (https://dss.digitalbibleonline.org/manifests/all/) then, we gather the identifier of the interested image format (i.e. recto and infrared) from the fragment manifest and finally, we download the fragment image from (https://iaa.iiifhosting.com) using the identifier of the interested fragment image. </b>\n",
    "\n",
    "In this project we are given a list of manuscript names (https://tauex-my.sharepoint.com/:x:/g/personal/berat_tauex_tau_ac_il/EUWgmjVoV0BKjE2mL3Wp5sgBdkUXjnkmsct34MmqRZ_EjA?e=j5bZWf). These manuscripts are dated by an internal evidence and can be used a ground truth for manuscript dating problem. We fetched the interested fragment image identifiers (https://github.com/beratkurar/hebrew_letter_detection/blob/main/fragment_identifiers.csv) from the manifests (https://dss.digitalbibleonline.org/manifests/all/). "
   ]
  },
  {
   "cell_type": "code",
   "execution_count": 1,
   "id": "d8539658-6e9f-47dc-bacb-0fccc6c31cce",
   "metadata": {},
   "outputs": [],
   "source": [
    "import cv2\n",
    "import os\n",
    "from pandas import *\n",
    "import requests\n",
    "import numpy as np"
   ]
  },
  {
   "cell_type": "code",
   "execution_count": 11,
   "id": "a3d762ab-da9b-4f25-bd11-7206568ee4b2",
   "metadata": {},
   "outputs": [],
   "source": [
    "def read_image_data(file_name):\n",
    "    # Read image identifiers from a csv file\n",
    "    df = read_csv(file_name)\n",
    "    image_identifier_list = df.loc[df['label'] == 'Near Infra-Red (NIR) -Recto', 'image_identifier'].tolist()\n",
    "    #image_identifier_list = df.loc[df['side'] == 'recto', 'image_identifier'].tolist()\n",
    "    input_files = [x.strip() for x in image_identifier_list if x != \"\"]  \n",
    "    return input_files"
   ]
  },
  {
   "cell_type": "code",
   "execution_count": 13,
   "id": "e54c0798-a267-4bba-974b-7d2f6e82db7f",
   "metadata": {},
   "outputs": [
    {
     "name": "stdout",
     "output_type": "stream",
     "text": [
      "7eac0d1613687328eb4a8be51fff265eb9108deae862fa3f7ae2858db3c47046\n"
     ]
    }
   ],
   "source": [
    "# Print an example identifier\n",
    "identifiers = read_image_data ('image_data.csv')\n",
    "print(identifiers[1])"
   ]
  },
  {
   "cell_type": "markdown",
   "id": "9bf8bf24-125a-4ef5-ba79-d98be6d972bb",
   "metadata": {},
   "source": [
    "The Image API can be called by requesting an image using the following URL template:\n",
    "{scheme}://{server}{/prefix}/{identifier}/{region}/{size}/{rotation}/{quality}.{format}\n",
    "\n",
    "Scheme = http <br/>\n",
    "Server = iaa.iiifhosting.com/iiif/ <br/>\n",
    "Prefix = 8b8c3e3eb8e50dbad6fa81260c4f5f826c57ee675950dc07b1525110b8959470 <br/>\n",
    "Region = Rectangular portion of the underlying image content to be returned. Region can be specified by pixel coordinates, percentage or by the value full, which specifies that the full image should be returned. <br/>\n",
    "Size = The size parameter specifies the dimensions to which the extracted region is to be scaled. <br/>\n",
    "Rotation = specifies mirroring and rotation. <br/>\n",
    "Quality = determines whether the image is delivered in color, grayscale or black and white. <br/>\n",
    "Format = format of the returned image is expressed as a suffix at the end of the URI i.e. default.jpg, default.png. default.tif. <br/>"
   ]
  },
  {
   "cell_type": "code",
   "execution_count": 4,
   "id": "aa95db34-5b46-4f28-ac33-c71f96579b52",
   "metadata": {},
   "outputs": [
    {
     "name": "stdout",
     "output_type": "stream",
     "text": [
      "{'@context': 'http://iiif.io/api/image/2/context.json', '@id': 'https://iaa.iiifhosting.com/iiif/dede6fd6633bc35ec6b65690ef499e8f2b1772d5b687d340c3a2d01cd7ed2e3c', 'protocol': 'http://iiif.io/api/image', 'width': 7216, 'height': 5412, 'sizes': [{'width': 225, 'height': 169}, {'width': 451, 'height': 338}, {'width': 902, 'height': 676}], 'tiles': [{'width': 256, 'height': 256, 'scaleFactors': [1, 2, 4, 8, 16, 32]}], 'profile': ['http://iiif.io/api/image/2/level1.json', {'formats': ['jpg'], 'qualities': ['native', 'color', 'gray'], 'supports': ['regionByPct', 'regionSquare', 'sizeByForcedWh', 'sizeByWh', 'sizeAboveFull', 'rotationBy90s', 'mirroring']}]}\n"
     ]
    }
   ],
   "source": [
    "#Open and print an example info.json\n",
    "prefix ='https://iaa.iiifhosting.com/iiif/dede6fd6633bc35ec6b65690ef499e8f2b1772d5b687d340c3a2d01cd7ed2e3c/'\n",
    "info_url = prefix + 'info.json'\n",
    "info = requests.get(info_url).json()\n",
    "print(info)"
   ]
  },
  {
   "cell_type": "markdown",
   "id": "5970c0bd-0ce9-44cb-96a0-ed097c3bd3aa",
   "metadata": {},
   "source": [
    "The IIIF server does not allow to download images greater than 1000 x 1000 pixels. To see this let's gather the full region size image with full sizes, and see that its shape is only 1000 x 1000 x 3 but not height x width x 3."
   ]
  },
  {
   "cell_type": "code",
   "execution_count": 5,
   "id": "6db45b94-15b9-41eb-8267-a07bcac14776",
   "metadata": {},
   "outputs": [
    {
     "name": "stdout",
     "output_type": "stream",
     "text": [
      "https://iaa.iiifhosting.com/iiif/dede6fd6633bc35ec6b65690ef499e8f2b1772d5b687d340c3a2d01cd7ed2e3c/full/7216,5412/0/default.jpg\n"
     ]
    }
   ],
   "source": [
    "# get image sizes from info.json and construct the image_url\n",
    "height = str(info['height'])\n",
    "width = str(info['width'])\n",
    "image_url = prefix + 'full/' + width + ',' + height + '/0/default.jpg'\n",
    "print(image_url)"
   ]
  },
  {
   "cell_type": "code",
   "execution_count": 6,
   "id": "4ef3e9dc-f7ad-4c5f-b717-4468db9addf1",
   "metadata": {},
   "outputs": [],
   "source": [
    "# Convert http response image to a numpy array image\n",
    "response = requests.get(image_url, stream=True).raw\n",
    "image_array = np.asarray(bytearray(response.read()), dtype=\"uint8\")\n",
    "image = cv2.imdecode(image_array, cv2.IMREAD_COLOR)"
   ]
  },
  {
   "cell_type": "code",
   "execution_count": 7,
   "id": "6cef7023-d2f9-41bf-b67c-e0512608a1a8",
   "metadata": {},
   "outputs": [
    {
     "name": "stdout",
     "output_type": "stream",
     "text": [
      "(1000, 1000, 3)\n"
     ]
    }
   ],
   "source": [
    "print(image.shape)"
   ]
  },
  {
   "cell_type": "markdown",
   "id": "0c53c2d2-b20b-467e-b646-c5d7800d23e1",
   "metadata": {},
   "source": [
    "Therefore we download the full image as tiles and stich the tiles to reform the full image. "
   ]
  },
  {
   "cell_type": "code",
   "execution_count": 19,
   "id": "8540aafc-905d-40f9-817f-a35592a498f1",
   "metadata": {},
   "outputs": [
    {
     "ename": "ValueError",
     "evalue": "could not broadcast input array from shape (64,64,3) into shape (128,128,3)",
     "output_type": "error",
     "traceback": [
      "\u001b[0;31m---------------------------------------------------------------------------\u001b[0m",
      "\u001b[0;31mValueError\u001b[0m                                Traceback (most recent call last)",
      "Cell \u001b[0;32mIn[19], line 22\u001b[0m\n\u001b[1;32m     20\u001b[0m     tile_array \u001b[38;5;241m=\u001b[39m np\u001b[38;5;241m.\u001b[39masarray(\u001b[38;5;28mbytearray\u001b[39m(response\u001b[38;5;241m.\u001b[39mread()), dtype\u001b[38;5;241m=\u001b[39m\u001b[38;5;124m\"\u001b[39m\u001b[38;5;124muint8\u001b[39m\u001b[38;5;124m\"\u001b[39m)\n\u001b[1;32m     21\u001b[0m     tile_image \u001b[38;5;241m=\u001b[39m cv2\u001b[38;5;241m.\u001b[39mimdecode(tile_array, cv2\u001b[38;5;241m.\u001b[39mIMREAD_COLOR)\n\u001b[0;32m---> 22\u001b[0m     stiched_image[y:y\u001b[38;5;241m+\u001b[39madj_height, x:x\u001b[38;5;241m+\u001b[39madj_width] \u001b[38;5;241m=\u001b[39m tile_image\n\u001b[1;32m     23\u001b[0m     x \u001b[38;5;241m=\u001b[39m x \u001b[38;5;241m+\u001b[39m tile_width\n\u001b[1;32m     24\u001b[0m y \u001b[38;5;241m=\u001b[39m y \u001b[38;5;241m+\u001b[39m tile_height\n",
      "\u001b[0;31mValueError\u001b[0m: could not broadcast input array from shape (64,64,3) into shape (128,128,3)"
     ]
    }
   ],
   "source": [
    "# Get the full image size and tile size from info.json.\n",
    "# Download image tile by tile, stich the tiles into a full size image.\n",
    "image_url = prefix + 'full/' + width + ',' + height + '/0/default.jpg'\n",
    "\n",
    "\n",
    "\n",
    "stiched_image = np.empty((int(info['height']/2), int(info['width']/2), 3), dtype=np.uint8)\n",
    "tile_width = info['tiles'][0]['width']\n",
    "tile_height = info['tiles'][0]['height']/2\n",
    "\n",
    "y = 0\n",
    "while y < int(info['height']/2):\n",
    "    x = 0\n",
    "    adj_height = min(tile_height, int(info['height']/2) - y)\n",
    "    while x < int(info['width']/2):\n",
    "        adj_width = min(tile_width, int(info['width']/2) - x)\n",
    "        #tile_url = prefix + str(x) + ',' + str(y)+ ',' + str(adj_width)+ ',' + str(adj_height) + '/full/0/default.jpg'\n",
    "        tile_url = prefix + str(x) + ',' + str(y)+ ',' + str(adj_width)+ ',' + str(adj_height) + '/pct:50/0/default.jpg'\n",
    "        response = requests.get(tile_url, stream=True).raw\n",
    "        tile_array = np.asarray(bytearray(response.read()), dtype=\"uint8\")\n",
    "        tile_image = cv2.imdecode(tile_array, cv2.IMREAD_COLOR)\n",
    "        stiched_image[y:y+adj_height, x:x+adj_width] = tile_image\n",
    "        x = x + tile_width\n",
    "    y = y + tile_height\n"
   ]
  },
  {
   "cell_type": "code",
   "execution_count": null,
   "id": "4c071b4f-91e9-4f54-b974-06d9475628f2",
   "metadata": {},
   "outputs": [],
   "source": [
    "print(stiched_image.shape)"
   ]
  },
  {
   "cell_type": "code",
   "execution_count": 8,
   "id": "87b8dcb7-10aa-419d-8844-dab8f85592ca",
   "metadata": {},
   "outputs": [],
   "source": [
    "def download_iiif_image(identifier):\n",
    "    # Download tiles and stich them into a full size image\n",
    "    prefix ='https://iaa.iiifhosting.com/iiif/' + identifier + '/'\n",
    "    info_url = prefix + 'info.json'\n",
    "    info = requests.get(info_url).json()    \n",
    "    height = str(info['height'])\n",
    "    width = str(info['width'])\n",
    "    image_url = prefix + 'full/' + width + ',' + height + '/0/default.jpg'\n",
    "    stiched_image = np.empty((info['height'], info['width'], 3), dtype=np.uint8)\n",
    "    tile_width = info['tiles'][0]['width']\n",
    "    tile_height = info['tiles'][0]['height']\n",
    "\n",
    "    y = 0\n",
    "    while y < info['height']:\n",
    "        x = 0\n",
    "        adj_height = min(tile_height, info['height'] - y)\n",
    "        while x < info['width']:\n",
    "            adj_width = min(tile_width, info['width'] - x)\n",
    "            tile_url = prefix + str(x) + ',' + str(y)+ ',' + str(adj_width)+ ',' + str(adj_height) + '/full/0/default.jpg'\n",
    "            response = requests.get(tile_url, stream=True).raw\n",
    "            tile_array = np.asarray(bytearray(response.read()), dtype=\"uint8\")\n",
    "            tile_image = cv2.imdecode(tile_array, cv2.IMREAD_COLOR)\n",
    "            stiched_image[y:y+adj_height, x:x+adj_width] = tile_image\n",
    "            x = x + tile_width\n",
    "        y = y + tile_height\n",
    "    \n",
    "    return stiched_image"
   ]
  },
  {
   "cell_type": "code",
   "execution_count": 10,
   "id": "36a1a2d5-5c02-4658-860b-d8ee4df249ef",
   "metadata": {},
   "outputs": [
    {
     "ename": "KeyboardInterrupt",
     "evalue": "",
     "output_type": "error",
     "traceback": [
      "\u001b[0;31m---------------------------------------------------------------------------\u001b[0m",
      "\u001b[0;31mKeyboardInterrupt\u001b[0m                         Traceback (most recent call last)",
      "Cell \u001b[0;32mIn[10], line 6\u001b[0m\n\u001b[1;32m      3\u001b[0m identifiers \u001b[38;5;241m=\u001b[39m read_image_data(image_identifiers_file)\n\u001b[1;32m      5\u001b[0m \u001b[38;5;28;01mfor\u001b[39;00m identifier \u001b[38;5;129;01min\u001b[39;00m identifiers:\n\u001b[0;32m----> 6\u001b[0m     full_size_image \u001b[38;5;241m=\u001b[39m \u001b[43mdownload_iiif_image\u001b[49m\u001b[43m(\u001b[49m\u001b[43midentifier\u001b[49m\u001b[43m)\u001b[49m\n\u001b[1;32m      7\u001b[0m     cv2\u001b[38;5;241m.\u001b[39mimwrite(image_download_folder \u001b[38;5;241m+\u001b[39m identifier \u001b[38;5;241m+\u001b[39m \u001b[38;5;124m'\u001b[39m\u001b[38;5;124m.jpg\u001b[39m\u001b[38;5;124m'\u001b[39m, full_size_image)\n",
      "Cell \u001b[0;32mIn[8], line 20\u001b[0m, in \u001b[0;36mdownload_iiif_image\u001b[0;34m(identifier)\u001b[0m\n\u001b[1;32m     18\u001b[0m adj_width \u001b[38;5;241m=\u001b[39m \u001b[38;5;28mmin\u001b[39m(tile_width, info[\u001b[38;5;124m'\u001b[39m\u001b[38;5;124mwidth\u001b[39m\u001b[38;5;124m'\u001b[39m] \u001b[38;5;241m-\u001b[39m x)\n\u001b[1;32m     19\u001b[0m tile_url \u001b[38;5;241m=\u001b[39m prefix \u001b[38;5;241m+\u001b[39m \u001b[38;5;28mstr\u001b[39m(x) \u001b[38;5;241m+\u001b[39m \u001b[38;5;124m'\u001b[39m\u001b[38;5;124m,\u001b[39m\u001b[38;5;124m'\u001b[39m \u001b[38;5;241m+\u001b[39m \u001b[38;5;28mstr\u001b[39m(y)\u001b[38;5;241m+\u001b[39m \u001b[38;5;124m'\u001b[39m\u001b[38;5;124m,\u001b[39m\u001b[38;5;124m'\u001b[39m \u001b[38;5;241m+\u001b[39m \u001b[38;5;28mstr\u001b[39m(adj_width)\u001b[38;5;241m+\u001b[39m \u001b[38;5;124m'\u001b[39m\u001b[38;5;124m,\u001b[39m\u001b[38;5;124m'\u001b[39m \u001b[38;5;241m+\u001b[39m \u001b[38;5;28mstr\u001b[39m(adj_height) \u001b[38;5;241m+\u001b[39m \u001b[38;5;124m'\u001b[39m\u001b[38;5;124m/full/0/default.jpg\u001b[39m\u001b[38;5;124m'\u001b[39m\n\u001b[0;32m---> 20\u001b[0m response \u001b[38;5;241m=\u001b[39m \u001b[43mrequests\u001b[49m\u001b[38;5;241;43m.\u001b[39;49m\u001b[43mget\u001b[49m\u001b[43m(\u001b[49m\u001b[43mtile_url\u001b[49m\u001b[43m,\u001b[49m\u001b[43m \u001b[49m\u001b[43mstream\u001b[49m\u001b[38;5;241;43m=\u001b[39;49m\u001b[38;5;28;43;01mTrue\u001b[39;49;00m\u001b[43m)\u001b[49m\u001b[38;5;241m.\u001b[39mraw\n\u001b[1;32m     21\u001b[0m tile_array \u001b[38;5;241m=\u001b[39m np\u001b[38;5;241m.\u001b[39masarray(\u001b[38;5;28mbytearray\u001b[39m(response\u001b[38;5;241m.\u001b[39mread()), dtype\u001b[38;5;241m=\u001b[39m\u001b[38;5;124m\"\u001b[39m\u001b[38;5;124muint8\u001b[39m\u001b[38;5;124m\"\u001b[39m)\n\u001b[1;32m     22\u001b[0m tile_image \u001b[38;5;241m=\u001b[39m cv2\u001b[38;5;241m.\u001b[39mimdecode(tile_array, cv2\u001b[38;5;241m.\u001b[39mIMREAD_COLOR)\n",
      "File \u001b[0;32m/home/nachum/berat/anaconda3/envs/tfenv/lib/python3.9/site-packages/requests/api.py:73\u001b[0m, in \u001b[0;36mget\u001b[0;34m(url, params, **kwargs)\u001b[0m\n\u001b[1;32m     62\u001b[0m \u001b[38;5;28;01mdef\u001b[39;00m \u001b[38;5;21mget\u001b[39m(url, params\u001b[38;5;241m=\u001b[39m\u001b[38;5;28;01mNone\u001b[39;00m, \u001b[38;5;241m*\u001b[39m\u001b[38;5;241m*\u001b[39mkwargs):\n\u001b[1;32m     63\u001b[0m     \u001b[38;5;124mr\u001b[39m\u001b[38;5;124;03m\"\"\"Sends a GET request.\u001b[39;00m\n\u001b[1;32m     64\u001b[0m \n\u001b[1;32m     65\u001b[0m \u001b[38;5;124;03m    :param url: URL for the new :class:`Request` object.\u001b[39;00m\n\u001b[0;32m   (...)\u001b[0m\n\u001b[1;32m     70\u001b[0m \u001b[38;5;124;03m    :rtype: requests.Response\u001b[39;00m\n\u001b[1;32m     71\u001b[0m \u001b[38;5;124;03m    \"\"\"\u001b[39;00m\n\u001b[0;32m---> 73\u001b[0m     \u001b[38;5;28;01mreturn\u001b[39;00m \u001b[43mrequest\u001b[49m\u001b[43m(\u001b[49m\u001b[38;5;124;43m\"\u001b[39;49m\u001b[38;5;124;43mget\u001b[39;49m\u001b[38;5;124;43m\"\u001b[39;49m\u001b[43m,\u001b[49m\u001b[43m \u001b[49m\u001b[43murl\u001b[49m\u001b[43m,\u001b[49m\u001b[43m \u001b[49m\u001b[43mparams\u001b[49m\u001b[38;5;241;43m=\u001b[39;49m\u001b[43mparams\u001b[49m\u001b[43m,\u001b[49m\u001b[43m \u001b[49m\u001b[38;5;241;43m*\u001b[39;49m\u001b[38;5;241;43m*\u001b[39;49m\u001b[43mkwargs\u001b[49m\u001b[43m)\u001b[49m\n",
      "File \u001b[0;32m/home/nachum/berat/anaconda3/envs/tfenv/lib/python3.9/site-packages/requests/api.py:59\u001b[0m, in \u001b[0;36mrequest\u001b[0;34m(method, url, **kwargs)\u001b[0m\n\u001b[1;32m     55\u001b[0m \u001b[38;5;66;03m# By using the 'with' statement we are sure the session is closed, thus we\u001b[39;00m\n\u001b[1;32m     56\u001b[0m \u001b[38;5;66;03m# avoid leaving sockets open which can trigger a ResourceWarning in some\u001b[39;00m\n\u001b[1;32m     57\u001b[0m \u001b[38;5;66;03m# cases, and look like a memory leak in others.\u001b[39;00m\n\u001b[1;32m     58\u001b[0m \u001b[38;5;28;01mwith\u001b[39;00m sessions\u001b[38;5;241m.\u001b[39mSession() \u001b[38;5;28;01mas\u001b[39;00m session:\n\u001b[0;32m---> 59\u001b[0m     \u001b[38;5;28;01mreturn\u001b[39;00m \u001b[43msession\u001b[49m\u001b[38;5;241;43m.\u001b[39;49m\u001b[43mrequest\u001b[49m\u001b[43m(\u001b[49m\u001b[43mmethod\u001b[49m\u001b[38;5;241;43m=\u001b[39;49m\u001b[43mmethod\u001b[49m\u001b[43m,\u001b[49m\u001b[43m \u001b[49m\u001b[43murl\u001b[49m\u001b[38;5;241;43m=\u001b[39;49m\u001b[43murl\u001b[49m\u001b[43m,\u001b[49m\u001b[43m \u001b[49m\u001b[38;5;241;43m*\u001b[39;49m\u001b[38;5;241;43m*\u001b[39;49m\u001b[43mkwargs\u001b[49m\u001b[43m)\u001b[49m\n",
      "File \u001b[0;32m/home/nachum/berat/anaconda3/envs/tfenv/lib/python3.9/site-packages/requests/sessions.py:587\u001b[0m, in \u001b[0;36mSession.request\u001b[0;34m(self, method, url, params, data, headers, cookies, files, auth, timeout, allow_redirects, proxies, hooks, stream, verify, cert, json)\u001b[0m\n\u001b[1;32m    582\u001b[0m send_kwargs \u001b[38;5;241m=\u001b[39m {\n\u001b[1;32m    583\u001b[0m     \u001b[38;5;124m\"\u001b[39m\u001b[38;5;124mtimeout\u001b[39m\u001b[38;5;124m\"\u001b[39m: timeout,\n\u001b[1;32m    584\u001b[0m     \u001b[38;5;124m\"\u001b[39m\u001b[38;5;124mallow_redirects\u001b[39m\u001b[38;5;124m\"\u001b[39m: allow_redirects,\n\u001b[1;32m    585\u001b[0m }\n\u001b[1;32m    586\u001b[0m send_kwargs\u001b[38;5;241m.\u001b[39mupdate(settings)\n\u001b[0;32m--> 587\u001b[0m resp \u001b[38;5;241m=\u001b[39m \u001b[38;5;28;43mself\u001b[39;49m\u001b[38;5;241;43m.\u001b[39;49m\u001b[43msend\u001b[49m\u001b[43m(\u001b[49m\u001b[43mprep\u001b[49m\u001b[43m,\u001b[49m\u001b[43m \u001b[49m\u001b[38;5;241;43m*\u001b[39;49m\u001b[38;5;241;43m*\u001b[39;49m\u001b[43msend_kwargs\u001b[49m\u001b[43m)\u001b[49m\n\u001b[1;32m    589\u001b[0m \u001b[38;5;28;01mreturn\u001b[39;00m resp\n",
      "File \u001b[0;32m/home/nachum/berat/anaconda3/envs/tfenv/lib/python3.9/site-packages/requests/sessions.py:701\u001b[0m, in \u001b[0;36mSession.send\u001b[0;34m(self, request, **kwargs)\u001b[0m\n\u001b[1;32m    698\u001b[0m start \u001b[38;5;241m=\u001b[39m preferred_clock()\n\u001b[1;32m    700\u001b[0m \u001b[38;5;66;03m# Send the request\u001b[39;00m\n\u001b[0;32m--> 701\u001b[0m r \u001b[38;5;241m=\u001b[39m \u001b[43madapter\u001b[49m\u001b[38;5;241;43m.\u001b[39;49m\u001b[43msend\u001b[49m\u001b[43m(\u001b[49m\u001b[43mrequest\u001b[49m\u001b[43m,\u001b[49m\u001b[43m \u001b[49m\u001b[38;5;241;43m*\u001b[39;49m\u001b[38;5;241;43m*\u001b[39;49m\u001b[43mkwargs\u001b[49m\u001b[43m)\u001b[49m\n\u001b[1;32m    703\u001b[0m \u001b[38;5;66;03m# Total elapsed time of the request (approximately)\u001b[39;00m\n\u001b[1;32m    704\u001b[0m elapsed \u001b[38;5;241m=\u001b[39m preferred_clock() \u001b[38;5;241m-\u001b[39m start\n",
      "File \u001b[0;32m/home/nachum/berat/anaconda3/envs/tfenv/lib/python3.9/site-packages/requests/adapters.py:489\u001b[0m, in \u001b[0;36mHTTPAdapter.send\u001b[0;34m(self, request, stream, timeout, verify, cert, proxies)\u001b[0m\n\u001b[1;32m    487\u001b[0m \u001b[38;5;28;01mtry\u001b[39;00m:\n\u001b[1;32m    488\u001b[0m     \u001b[38;5;28;01mif\u001b[39;00m \u001b[38;5;129;01mnot\u001b[39;00m chunked:\n\u001b[0;32m--> 489\u001b[0m         resp \u001b[38;5;241m=\u001b[39m \u001b[43mconn\u001b[49m\u001b[38;5;241;43m.\u001b[39;49m\u001b[43murlopen\u001b[49m\u001b[43m(\u001b[49m\n\u001b[1;32m    490\u001b[0m \u001b[43m            \u001b[49m\u001b[43mmethod\u001b[49m\u001b[38;5;241;43m=\u001b[39;49m\u001b[43mrequest\u001b[49m\u001b[38;5;241;43m.\u001b[39;49m\u001b[43mmethod\u001b[49m\u001b[43m,\u001b[49m\n\u001b[1;32m    491\u001b[0m \u001b[43m            \u001b[49m\u001b[43murl\u001b[49m\u001b[38;5;241;43m=\u001b[39;49m\u001b[43murl\u001b[49m\u001b[43m,\u001b[49m\n\u001b[1;32m    492\u001b[0m \u001b[43m            \u001b[49m\u001b[43mbody\u001b[49m\u001b[38;5;241;43m=\u001b[39;49m\u001b[43mrequest\u001b[49m\u001b[38;5;241;43m.\u001b[39;49m\u001b[43mbody\u001b[49m\u001b[43m,\u001b[49m\n\u001b[1;32m    493\u001b[0m \u001b[43m            \u001b[49m\u001b[43mheaders\u001b[49m\u001b[38;5;241;43m=\u001b[39;49m\u001b[43mrequest\u001b[49m\u001b[38;5;241;43m.\u001b[39;49m\u001b[43mheaders\u001b[49m\u001b[43m,\u001b[49m\n\u001b[1;32m    494\u001b[0m \u001b[43m            \u001b[49m\u001b[43mredirect\u001b[49m\u001b[38;5;241;43m=\u001b[39;49m\u001b[38;5;28;43;01mFalse\u001b[39;49;00m\u001b[43m,\u001b[49m\n\u001b[1;32m    495\u001b[0m \u001b[43m            \u001b[49m\u001b[43massert_same_host\u001b[49m\u001b[38;5;241;43m=\u001b[39;49m\u001b[38;5;28;43;01mFalse\u001b[39;49;00m\u001b[43m,\u001b[49m\n\u001b[1;32m    496\u001b[0m \u001b[43m            \u001b[49m\u001b[43mpreload_content\u001b[49m\u001b[38;5;241;43m=\u001b[39;49m\u001b[38;5;28;43;01mFalse\u001b[39;49;00m\u001b[43m,\u001b[49m\n\u001b[1;32m    497\u001b[0m \u001b[43m            \u001b[49m\u001b[43mdecode_content\u001b[49m\u001b[38;5;241;43m=\u001b[39;49m\u001b[38;5;28;43;01mFalse\u001b[39;49;00m\u001b[43m,\u001b[49m\n\u001b[1;32m    498\u001b[0m \u001b[43m            \u001b[49m\u001b[43mretries\u001b[49m\u001b[38;5;241;43m=\u001b[39;49m\u001b[38;5;28;43mself\u001b[39;49m\u001b[38;5;241;43m.\u001b[39;49m\u001b[43mmax_retries\u001b[49m\u001b[43m,\u001b[49m\n\u001b[1;32m    499\u001b[0m \u001b[43m            \u001b[49m\u001b[43mtimeout\u001b[49m\u001b[38;5;241;43m=\u001b[39;49m\u001b[43mtimeout\u001b[49m\u001b[43m,\u001b[49m\n\u001b[1;32m    500\u001b[0m \u001b[43m        \u001b[49m\u001b[43m)\u001b[49m\n\u001b[1;32m    502\u001b[0m     \u001b[38;5;66;03m# Send the request.\u001b[39;00m\n\u001b[1;32m    503\u001b[0m     \u001b[38;5;28;01melse\u001b[39;00m:\n\u001b[1;32m    504\u001b[0m         \u001b[38;5;28;01mif\u001b[39;00m \u001b[38;5;28mhasattr\u001b[39m(conn, \u001b[38;5;124m\"\u001b[39m\u001b[38;5;124mproxy_pool\u001b[39m\u001b[38;5;124m\"\u001b[39m):\n",
      "File \u001b[0;32m/home/nachum/berat/anaconda3/envs/tfenv/lib/python3.9/site-packages/urllib3/connectionpool.py:703\u001b[0m, in \u001b[0;36mHTTPConnectionPool.urlopen\u001b[0;34m(self, method, url, body, headers, retries, redirect, assert_same_host, timeout, pool_timeout, release_conn, chunked, body_pos, **response_kw)\u001b[0m\n\u001b[1;32m    700\u001b[0m     \u001b[38;5;28mself\u001b[39m\u001b[38;5;241m.\u001b[39m_prepare_proxy(conn)\n\u001b[1;32m    702\u001b[0m \u001b[38;5;66;03m# Make the request on the httplib connection object.\u001b[39;00m\n\u001b[0;32m--> 703\u001b[0m httplib_response \u001b[38;5;241m=\u001b[39m \u001b[38;5;28;43mself\u001b[39;49m\u001b[38;5;241;43m.\u001b[39;49m\u001b[43m_make_request\u001b[49m\u001b[43m(\u001b[49m\n\u001b[1;32m    704\u001b[0m \u001b[43m    \u001b[49m\u001b[43mconn\u001b[49m\u001b[43m,\u001b[49m\n\u001b[1;32m    705\u001b[0m \u001b[43m    \u001b[49m\u001b[43mmethod\u001b[49m\u001b[43m,\u001b[49m\n\u001b[1;32m    706\u001b[0m \u001b[43m    \u001b[49m\u001b[43murl\u001b[49m\u001b[43m,\u001b[49m\n\u001b[1;32m    707\u001b[0m \u001b[43m    \u001b[49m\u001b[43mtimeout\u001b[49m\u001b[38;5;241;43m=\u001b[39;49m\u001b[43mtimeout_obj\u001b[49m\u001b[43m,\u001b[49m\n\u001b[1;32m    708\u001b[0m \u001b[43m    \u001b[49m\u001b[43mbody\u001b[49m\u001b[38;5;241;43m=\u001b[39;49m\u001b[43mbody\u001b[49m\u001b[43m,\u001b[49m\n\u001b[1;32m    709\u001b[0m \u001b[43m    \u001b[49m\u001b[43mheaders\u001b[49m\u001b[38;5;241;43m=\u001b[39;49m\u001b[43mheaders\u001b[49m\u001b[43m,\u001b[49m\n\u001b[1;32m    710\u001b[0m \u001b[43m    \u001b[49m\u001b[43mchunked\u001b[49m\u001b[38;5;241;43m=\u001b[39;49m\u001b[43mchunked\u001b[49m\u001b[43m,\u001b[49m\n\u001b[1;32m    711\u001b[0m \u001b[43m\u001b[49m\u001b[43m)\u001b[49m\n\u001b[1;32m    713\u001b[0m \u001b[38;5;66;03m# If we're going to release the connection in ``finally:``, then\u001b[39;00m\n\u001b[1;32m    714\u001b[0m \u001b[38;5;66;03m# the response doesn't need to know about the connection. Otherwise\u001b[39;00m\n\u001b[1;32m    715\u001b[0m \u001b[38;5;66;03m# it will also try to release it and we'll have a double-release\u001b[39;00m\n\u001b[1;32m    716\u001b[0m \u001b[38;5;66;03m# mess.\u001b[39;00m\n\u001b[1;32m    717\u001b[0m response_conn \u001b[38;5;241m=\u001b[39m conn \u001b[38;5;28;01mif\u001b[39;00m \u001b[38;5;129;01mnot\u001b[39;00m release_conn \u001b[38;5;28;01melse\u001b[39;00m \u001b[38;5;28;01mNone\u001b[39;00m\n",
      "File \u001b[0;32m/home/nachum/berat/anaconda3/envs/tfenv/lib/python3.9/site-packages/urllib3/connectionpool.py:386\u001b[0m, in \u001b[0;36mHTTPConnectionPool._make_request\u001b[0;34m(self, conn, method, url, timeout, chunked, **httplib_request_kw)\u001b[0m\n\u001b[1;32m    384\u001b[0m \u001b[38;5;66;03m# Trigger any extra validation we need to do.\u001b[39;00m\n\u001b[1;32m    385\u001b[0m \u001b[38;5;28;01mtry\u001b[39;00m:\n\u001b[0;32m--> 386\u001b[0m     \u001b[38;5;28;43mself\u001b[39;49m\u001b[38;5;241;43m.\u001b[39;49m\u001b[43m_validate_conn\u001b[49m\u001b[43m(\u001b[49m\u001b[43mconn\u001b[49m\u001b[43m)\u001b[49m\n\u001b[1;32m    387\u001b[0m \u001b[38;5;28;01mexcept\u001b[39;00m (SocketTimeout, BaseSSLError) \u001b[38;5;28;01mas\u001b[39;00m e:\n\u001b[1;32m    388\u001b[0m     \u001b[38;5;66;03m# Py2 raises this as a BaseSSLError, Py3 raises it as socket timeout.\u001b[39;00m\n\u001b[1;32m    389\u001b[0m     \u001b[38;5;28mself\u001b[39m\u001b[38;5;241m.\u001b[39m_raise_timeout(err\u001b[38;5;241m=\u001b[39me, url\u001b[38;5;241m=\u001b[39murl, timeout_value\u001b[38;5;241m=\u001b[39mconn\u001b[38;5;241m.\u001b[39mtimeout)\n",
      "File \u001b[0;32m/home/nachum/berat/anaconda3/envs/tfenv/lib/python3.9/site-packages/urllib3/connectionpool.py:1042\u001b[0m, in \u001b[0;36mHTTPSConnectionPool._validate_conn\u001b[0;34m(self, conn)\u001b[0m\n\u001b[1;32m   1040\u001b[0m \u001b[38;5;66;03m# Force connect early to allow us to validate the connection.\u001b[39;00m\n\u001b[1;32m   1041\u001b[0m \u001b[38;5;28;01mif\u001b[39;00m \u001b[38;5;129;01mnot\u001b[39;00m \u001b[38;5;28mgetattr\u001b[39m(conn, \u001b[38;5;124m\"\u001b[39m\u001b[38;5;124msock\u001b[39m\u001b[38;5;124m\"\u001b[39m, \u001b[38;5;28;01mNone\u001b[39;00m):  \u001b[38;5;66;03m# AppEngine might not have  `.sock`\u001b[39;00m\n\u001b[0;32m-> 1042\u001b[0m     \u001b[43mconn\u001b[49m\u001b[38;5;241;43m.\u001b[39;49m\u001b[43mconnect\u001b[49m\u001b[43m(\u001b[49m\u001b[43m)\u001b[49m\n\u001b[1;32m   1044\u001b[0m \u001b[38;5;28;01mif\u001b[39;00m \u001b[38;5;129;01mnot\u001b[39;00m conn\u001b[38;5;241m.\u001b[39mis_verified:\n\u001b[1;32m   1045\u001b[0m     warnings\u001b[38;5;241m.\u001b[39mwarn(\n\u001b[1;32m   1046\u001b[0m         (\n\u001b[1;32m   1047\u001b[0m             \u001b[38;5;124m\"\u001b[39m\u001b[38;5;124mUnverified HTTPS request is being made to host \u001b[39m\u001b[38;5;124m'\u001b[39m\u001b[38;5;132;01m%s\u001b[39;00m\u001b[38;5;124m'\u001b[39m\u001b[38;5;124m. \u001b[39m\u001b[38;5;124m\"\u001b[39m\n\u001b[0;32m   (...)\u001b[0m\n\u001b[1;32m   1052\u001b[0m         InsecureRequestWarning,\n\u001b[1;32m   1053\u001b[0m     )\n",
      "File \u001b[0;32m/home/nachum/berat/anaconda3/envs/tfenv/lib/python3.9/site-packages/urllib3/connection.py:358\u001b[0m, in \u001b[0;36mHTTPSConnection.connect\u001b[0;34m(self)\u001b[0m\n\u001b[1;32m    356\u001b[0m \u001b[38;5;28;01mdef\u001b[39;00m \u001b[38;5;21mconnect\u001b[39m(\u001b[38;5;28mself\u001b[39m):\n\u001b[1;32m    357\u001b[0m     \u001b[38;5;66;03m# Add certificate verification\u001b[39;00m\n\u001b[0;32m--> 358\u001b[0m     \u001b[38;5;28mself\u001b[39m\u001b[38;5;241m.\u001b[39msock \u001b[38;5;241m=\u001b[39m conn \u001b[38;5;241m=\u001b[39m \u001b[38;5;28;43mself\u001b[39;49m\u001b[38;5;241;43m.\u001b[39;49m\u001b[43m_new_conn\u001b[49m\u001b[43m(\u001b[49m\u001b[43m)\u001b[49m\n\u001b[1;32m    359\u001b[0m     hostname \u001b[38;5;241m=\u001b[39m \u001b[38;5;28mself\u001b[39m\u001b[38;5;241m.\u001b[39mhost\n\u001b[1;32m    360\u001b[0m     tls_in_tls \u001b[38;5;241m=\u001b[39m \u001b[38;5;28;01mFalse\u001b[39;00m\n",
      "File \u001b[0;32m/home/nachum/berat/anaconda3/envs/tfenv/lib/python3.9/site-packages/urllib3/connection.py:174\u001b[0m, in \u001b[0;36mHTTPConnection._new_conn\u001b[0;34m(self)\u001b[0m\n\u001b[1;32m    171\u001b[0m     extra_kw[\u001b[38;5;124m\"\u001b[39m\u001b[38;5;124msocket_options\u001b[39m\u001b[38;5;124m\"\u001b[39m] \u001b[38;5;241m=\u001b[39m \u001b[38;5;28mself\u001b[39m\u001b[38;5;241m.\u001b[39msocket_options\n\u001b[1;32m    173\u001b[0m \u001b[38;5;28;01mtry\u001b[39;00m:\n\u001b[0;32m--> 174\u001b[0m     conn \u001b[38;5;241m=\u001b[39m \u001b[43mconnection\u001b[49m\u001b[38;5;241;43m.\u001b[39;49m\u001b[43mcreate_connection\u001b[49m\u001b[43m(\u001b[49m\n\u001b[1;32m    175\u001b[0m \u001b[43m        \u001b[49m\u001b[43m(\u001b[49m\u001b[38;5;28;43mself\u001b[39;49m\u001b[38;5;241;43m.\u001b[39;49m\u001b[43m_dns_host\u001b[49m\u001b[43m,\u001b[49m\u001b[43m \u001b[49m\u001b[38;5;28;43mself\u001b[39;49m\u001b[38;5;241;43m.\u001b[39;49m\u001b[43mport\u001b[49m\u001b[43m)\u001b[49m\u001b[43m,\u001b[49m\u001b[43m \u001b[49m\u001b[38;5;28;43mself\u001b[39;49m\u001b[38;5;241;43m.\u001b[39;49m\u001b[43mtimeout\u001b[49m\u001b[43m,\u001b[49m\u001b[43m \u001b[49m\u001b[38;5;241;43m*\u001b[39;49m\u001b[38;5;241;43m*\u001b[39;49m\u001b[43mextra_kw\u001b[49m\n\u001b[1;32m    176\u001b[0m \u001b[43m    \u001b[49m\u001b[43m)\u001b[49m\n\u001b[1;32m    178\u001b[0m \u001b[38;5;28;01mexcept\u001b[39;00m SocketTimeout:\n\u001b[1;32m    179\u001b[0m     \u001b[38;5;28;01mraise\u001b[39;00m ConnectTimeoutError(\n\u001b[1;32m    180\u001b[0m         \u001b[38;5;28mself\u001b[39m,\n\u001b[1;32m    181\u001b[0m         \u001b[38;5;124m\"\u001b[39m\u001b[38;5;124mConnection to \u001b[39m\u001b[38;5;132;01m%s\u001b[39;00m\u001b[38;5;124m timed out. (connect timeout=\u001b[39m\u001b[38;5;132;01m%s\u001b[39;00m\u001b[38;5;124m)\u001b[39m\u001b[38;5;124m\"\u001b[39m\n\u001b[1;32m    182\u001b[0m         \u001b[38;5;241m%\u001b[39m (\u001b[38;5;28mself\u001b[39m\u001b[38;5;241m.\u001b[39mhost, \u001b[38;5;28mself\u001b[39m\u001b[38;5;241m.\u001b[39mtimeout),\n\u001b[1;32m    183\u001b[0m     )\n",
      "File \u001b[0;32m/home/nachum/berat/anaconda3/envs/tfenv/lib/python3.9/site-packages/urllib3/util/connection.py:85\u001b[0m, in \u001b[0;36mcreate_connection\u001b[0;34m(address, timeout, source_address, socket_options)\u001b[0m\n\u001b[1;32m     83\u001b[0m     \u001b[38;5;28;01mif\u001b[39;00m source_address:\n\u001b[1;32m     84\u001b[0m         sock\u001b[38;5;241m.\u001b[39mbind(source_address)\n\u001b[0;32m---> 85\u001b[0m     \u001b[43msock\u001b[49m\u001b[38;5;241;43m.\u001b[39;49m\u001b[43mconnect\u001b[49m\u001b[43m(\u001b[49m\u001b[43msa\u001b[49m\u001b[43m)\u001b[49m\n\u001b[1;32m     86\u001b[0m     \u001b[38;5;28;01mreturn\u001b[39;00m sock\n\u001b[1;32m     88\u001b[0m \u001b[38;5;28;01mexcept\u001b[39;00m socket\u001b[38;5;241m.\u001b[39merror \u001b[38;5;28;01mas\u001b[39;00m e:\n",
      "\u001b[0;31mKeyboardInterrupt\u001b[0m: "
     ]
    }
   ],
   "source": [
    "image_identifiers_file = 'image_data.csv'\n",
    "image_download_folder = 'images/'\n",
    "identifiers = read_image_data(image_identifiers_file)\n",
    "\n",
    "for identifier in identifiers:\n",
    "    full_size_image = download_iiif_image(identifier)\n",
    "    cv2.imwrite(image_download_folder + identifier + '.jpg', full_size_image)"
   ]
  },
  {
   "cell_type": "code",
   "execution_count": null,
   "id": "42ef9dd9-9d14-44cc-b68e-53035979c690",
   "metadata": {},
   "outputs": [],
   "source": []
  }
 ],
 "metadata": {
  "kernelspec": {
   "display_name": "Python 3 (ipykernel)",
   "language": "python",
   "name": "python3"
  },
  "language_info": {
   "codemirror_mode": {
    "name": "ipython",
    "version": 3
   },
   "file_extension": ".py",
   "mimetype": "text/x-python",
   "name": "python",
   "nbconvert_exporter": "python",
   "pygments_lexer": "ipython3",
   "version": "3.9.15"
  }
 },
 "nbformat": 4,
 "nbformat_minor": 5
}
